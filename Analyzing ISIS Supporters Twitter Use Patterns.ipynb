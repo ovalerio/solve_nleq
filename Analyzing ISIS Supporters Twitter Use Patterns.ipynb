{
 "cells": [
  {
   "cell_type": "code",
   "execution_count": null,
   "metadata": {},
   "outputs": [],
   "source": [
    "# Using tweets from ISIS fanboys to gather some intelligence about their tweeting behaviour.\n",
    "# The ISIS tweets database has been shared in kaggle by Fifth Tribe\n",
    "# https://www.kaggle.com/fifthtribe/how-isis-uses-twitter"
   ]
  }
 ],
 "metadata": {
  "kernelspec": {
   "display_name": "Python 3",
   "language": "python",
   "name": "python3"
  },
  "language_info": {
   "codemirror_mode": {
    "name": "ipython",
    "version": 3
   },
   "file_extension": ".py",
   "mimetype": "text/x-python",
   "name": "python",
   "nbconvert_exporter": "python",
   "pygments_lexer": "ipython3",
   "version": "3.5.2"
  }
 },
 "nbformat": 4,
 "nbformat_minor": 2
}

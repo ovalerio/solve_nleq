{
 "cells": [
  {
   "cell_type": "code",
   "execution_count": 2,
   "metadata": {},
   "outputs": [],
   "source": [
    "# Using tweets from ISIS fanboys to gather some intelligence about their tweeting behaviour.\n",
    "# The ISIS tweets database has been shared in kaggle by Fifth Tribe\n",
    "# https://www.kaggle.com/fifthtribe/how-isis-uses-twitter\n",
    "import datetime\n",
    "\n",
    "import numpy as np\n",
    "import pandas as pd\n",
    "%matplotlib inline\n",
    "import matplotlib.pyplot as plt"
   ]
  },
  {
   "cell_type": "code",
   "execution_count": 5,
   "metadata": {},
   "outputs": [],
   "source": [
    "df = pd.read_csv('tweets.csv')"
   ]
  },
  {
   "cell_type": "code",
   "execution_count": 6,
   "metadata": {},
   "outputs": [
    {
     "data": {
      "text/html": [
       "<div>\n",
       "<style scoped>\n",
       "    .dataframe tbody tr th:only-of-type {\n",
       "        vertical-align: middle;\n",
       "    }\n",
       "\n",
       "    .dataframe tbody tr th {\n",
       "        vertical-align: top;\n",
       "    }\n",
       "\n",
       "    .dataframe thead th {\n",
       "        text-align: right;\n",
       "    }\n",
       "</style>\n",
       "<table border=\"1\" class=\"dataframe\">\n",
       "  <thead>\n",
       "    <tr style=\"text-align: right;\">\n",
       "      <th></th>\n",
       "      <th>name</th>\n",
       "      <th>username</th>\n",
       "      <th>description</th>\n",
       "      <th>location</th>\n",
       "      <th>followers</th>\n",
       "      <th>numberstatuses</th>\n",
       "      <th>time</th>\n",
       "      <th>tweets</th>\n",
       "    </tr>\n",
       "  </thead>\n",
       "  <tbody>\n",
       "    <tr>\n",
       "      <th>0</th>\n",
       "      <td>GunsandCoffee</td>\n",
       "      <td>GunsandCoffee70</td>\n",
       "      <td>ENGLISH TRANSLATIONS: http://t.co/QLdJ0ftews</td>\n",
       "      <td>NaN</td>\n",
       "      <td>640</td>\n",
       "      <td>49</td>\n",
       "      <td>1/6/2015 21:07</td>\n",
       "      <td>ENGLISH TRANSLATION: 'A MESSAGE TO THE TRUTHFU...</td>\n",
       "    </tr>\n",
       "    <tr>\n",
       "      <th>1</th>\n",
       "      <td>GunsandCoffee</td>\n",
       "      <td>GunsandCoffee70</td>\n",
       "      <td>ENGLISH TRANSLATIONS: http://t.co/QLdJ0ftews</td>\n",
       "      <td>NaN</td>\n",
       "      <td>640</td>\n",
       "      <td>49</td>\n",
       "      <td>1/6/2015 21:27</td>\n",
       "      <td>ENGLISH TRANSLATION: SHEIKH FATIH AL JAWLANI '...</td>\n",
       "    </tr>\n",
       "    <tr>\n",
       "      <th>2</th>\n",
       "      <td>GunsandCoffee</td>\n",
       "      <td>GunsandCoffee70</td>\n",
       "      <td>ENGLISH TRANSLATIONS: http://t.co/QLdJ0ftews</td>\n",
       "      <td>NaN</td>\n",
       "      <td>640</td>\n",
       "      <td>49</td>\n",
       "      <td>1/6/2015 21:29</td>\n",
       "      <td>ENGLISH TRANSLATION: FIRST AUDIO MEETING WITH ...</td>\n",
       "    </tr>\n",
       "    <tr>\n",
       "      <th>3</th>\n",
       "      <td>GunsandCoffee</td>\n",
       "      <td>GunsandCoffee70</td>\n",
       "      <td>ENGLISH TRANSLATIONS: http://t.co/QLdJ0ftews</td>\n",
       "      <td>NaN</td>\n",
       "      <td>640</td>\n",
       "      <td>49</td>\n",
       "      <td>1/6/2015 21:37</td>\n",
       "      <td>ENGLISH TRANSLATION: SHEIKH NASIR AL WUHAYSHI ...</td>\n",
       "    </tr>\n",
       "    <tr>\n",
       "      <th>4</th>\n",
       "      <td>GunsandCoffee</td>\n",
       "      <td>GunsandCoffee70</td>\n",
       "      <td>ENGLISH TRANSLATIONS: http://t.co/QLdJ0ftews</td>\n",
       "      <td>NaN</td>\n",
       "      <td>640</td>\n",
       "      <td>49</td>\n",
       "      <td>1/6/2015 21:45</td>\n",
       "      <td>ENGLISH TRANSLATION: AQAP: 'RESPONSE TO SHEIKH...</td>\n",
       "    </tr>\n",
       "  </tbody>\n",
       "</table>\n",
       "</div>"
      ],
      "text/plain": [
       "            name         username  \\\n",
       "0  GunsandCoffee  GunsandCoffee70   \n",
       "1  GunsandCoffee  GunsandCoffee70   \n",
       "2  GunsandCoffee  GunsandCoffee70   \n",
       "3  GunsandCoffee  GunsandCoffee70   \n",
       "4  GunsandCoffee  GunsandCoffee70   \n",
       "\n",
       "                                    description location  followers  \\\n",
       "0  ENGLISH TRANSLATIONS: http://t.co/QLdJ0ftews      NaN        640   \n",
       "1  ENGLISH TRANSLATIONS: http://t.co/QLdJ0ftews      NaN        640   \n",
       "2  ENGLISH TRANSLATIONS: http://t.co/QLdJ0ftews      NaN        640   \n",
       "3  ENGLISH TRANSLATIONS: http://t.co/QLdJ0ftews      NaN        640   \n",
       "4  ENGLISH TRANSLATIONS: http://t.co/QLdJ0ftews      NaN        640   \n",
       "\n",
       "   numberstatuses            time  \\\n",
       "0              49  1/6/2015 21:07   \n",
       "1              49  1/6/2015 21:27   \n",
       "2              49  1/6/2015 21:29   \n",
       "3              49  1/6/2015 21:37   \n",
       "4              49  1/6/2015 21:45   \n",
       "\n",
       "                                              tweets  \n",
       "0  ENGLISH TRANSLATION: 'A MESSAGE TO THE TRUTHFU...  \n",
       "1  ENGLISH TRANSLATION: SHEIKH FATIH AL JAWLANI '...  \n",
       "2  ENGLISH TRANSLATION: FIRST AUDIO MEETING WITH ...  \n",
       "3  ENGLISH TRANSLATION: SHEIKH NASIR AL WUHAYSHI ...  \n",
       "4  ENGLISH TRANSLATION: AQAP: 'RESPONSE TO SHEIKH...  "
      ]
     },
     "execution_count": 6,
     "metadata": {},
     "output_type": "execute_result"
    }
   ],
   "source": [
    "df.head()"
   ]
  },
  {
   "cell_type": "code",
   "execution_count": 37,
   "metadata": {},
   "outputs": [
    {
     "name": "stdout",
     "output_type": "stream",
     "text": [
      "1/6/2015 21:07 <class 'str'>\n"
     ]
    }
   ],
   "source": [
    "df.dtypes"
   ]
  },
  {
   "cell_type": "code",
   "execution_count": 46,
   "metadata": {},
   "outputs": [],
   "source": [
    "import time\n",
    "\n",
    "def hour_of_tweet(ts):\n",
    "    tweet_time = time.strptime(ts, '%m/%d/%Y %H:%M')\n",
    "    return tweet_time.tm_hour"
   ]
  },
  {
   "cell_type": "code",
   "execution_count": 49,
   "metadata": {},
   "outputs": [
    {
     "data": {
      "text/plain": [
       "21"
      ]
     },
     "execution_count": 49,
     "metadata": {},
     "output_type": "execute_result"
    }
   ],
   "source": [
    "ts_tweet = df.iloc[0]['time']\n",
    "print(ts_tweet, type(ts_tweet), hour_of_tweet(ts_tweet))"
   ]
  },
  {
   "cell_type": "code",
   "execution_count": 55,
   "metadata": {},
   "outputs": [
    {
     "data": {
      "text/plain": [
       "0    1/6/2015 21:07\n",
       "1    1/6/2015 21:27\n",
       "2    1/6/2015 21:29\n",
       "3    1/6/2015 21:37\n",
       "4    1/6/2015 21:45\n",
       "Name: time, dtype: object"
      ]
     },
     "execution_count": 55,
     "metadata": {},
     "output_type": "execute_result"
    }
   ],
   "source": [
    "ts_tweets = df.iloc[0:5]['time']\n",
    "ts_tweets"
   ]
  },
  {
   "cell_type": "code",
   "execution_count": 60,
   "metadata": {},
   "outputs": [],
   "source": [
    "# add column tweet_hour to the tweets data frame\n",
    "df['tweet_hour'] = df['time'].apply(lambda ts : time.strptime(ts, '%m/%d/%Y %H:%M').tm_hour)"
   ]
  },
  {
   "cell_type": "code",
   "execution_count": 62,
   "metadata": {},
   "outputs": [
    {
     "data": {
      "text/html": [
       "<div>\n",
       "<style scoped>\n",
       "    .dataframe tbody tr th:only-of-type {\n",
       "        vertical-align: middle;\n",
       "    }\n",
       "\n",
       "    .dataframe tbody tr th {\n",
       "        vertical-align: top;\n",
       "    }\n",
       "\n",
       "    .dataframe thead th {\n",
       "        text-align: right;\n",
       "    }\n",
       "</style>\n",
       "<table border=\"1\" class=\"dataframe\">\n",
       "  <thead>\n",
       "    <tr style=\"text-align: right;\">\n",
       "      <th></th>\n",
       "      <th>name</th>\n",
       "      <th>username</th>\n",
       "      <th>description</th>\n",
       "      <th>location</th>\n",
       "      <th>followers</th>\n",
       "      <th>numberstatuses</th>\n",
       "      <th>time</th>\n",
       "      <th>tweets</th>\n",
       "      <th>tweet_hour</th>\n",
       "    </tr>\n",
       "  </thead>\n",
       "  <tbody>\n",
       "    <tr>\n",
       "      <th>0</th>\n",
       "      <td>GunsandCoffee</td>\n",
       "      <td>GunsandCoffee70</td>\n",
       "      <td>ENGLISH TRANSLATIONS: http://t.co/QLdJ0ftews</td>\n",
       "      <td>NaN</td>\n",
       "      <td>640</td>\n",
       "      <td>49</td>\n",
       "      <td>1/6/2015 21:07</td>\n",
       "      <td>ENGLISH TRANSLATION: 'A MESSAGE TO THE TRUTHFU...</td>\n",
       "      <td>21</td>\n",
       "    </tr>\n",
       "    <tr>\n",
       "      <th>1</th>\n",
       "      <td>GunsandCoffee</td>\n",
       "      <td>GunsandCoffee70</td>\n",
       "      <td>ENGLISH TRANSLATIONS: http://t.co/QLdJ0ftews</td>\n",
       "      <td>NaN</td>\n",
       "      <td>640</td>\n",
       "      <td>49</td>\n",
       "      <td>1/6/2015 21:27</td>\n",
       "      <td>ENGLISH TRANSLATION: SHEIKH FATIH AL JAWLANI '...</td>\n",
       "      <td>21</td>\n",
       "    </tr>\n",
       "    <tr>\n",
       "      <th>2</th>\n",
       "      <td>GunsandCoffee</td>\n",
       "      <td>GunsandCoffee70</td>\n",
       "      <td>ENGLISH TRANSLATIONS: http://t.co/QLdJ0ftews</td>\n",
       "      <td>NaN</td>\n",
       "      <td>640</td>\n",
       "      <td>49</td>\n",
       "      <td>1/6/2015 21:29</td>\n",
       "      <td>ENGLISH TRANSLATION: FIRST AUDIO MEETING WITH ...</td>\n",
       "      <td>21</td>\n",
       "    </tr>\n",
       "  </tbody>\n",
       "</table>\n",
       "</div>"
      ],
      "text/plain": [
       "            name         username  \\\n",
       "0  GunsandCoffee  GunsandCoffee70   \n",
       "1  GunsandCoffee  GunsandCoffee70   \n",
       "2  GunsandCoffee  GunsandCoffee70   \n",
       "\n",
       "                                    description location  followers  \\\n",
       "0  ENGLISH TRANSLATIONS: http://t.co/QLdJ0ftews      NaN        640   \n",
       "1  ENGLISH TRANSLATIONS: http://t.co/QLdJ0ftews      NaN        640   \n",
       "2  ENGLISH TRANSLATIONS: http://t.co/QLdJ0ftews      NaN        640   \n",
       "\n",
       "   numberstatuses            time  \\\n",
       "0              49  1/6/2015 21:07   \n",
       "1              49  1/6/2015 21:27   \n",
       "2              49  1/6/2015 21:29   \n",
       "\n",
       "                                              tweets  tweet_hour  \n",
       "0  ENGLISH TRANSLATION: 'A MESSAGE TO THE TRUTHFU...          21  \n",
       "1  ENGLISH TRANSLATION: SHEIKH FATIH AL JAWLANI '...          21  \n",
       "2  ENGLISH TRANSLATION: FIRST AUDIO MEETING WITH ...          21  "
      ]
     },
     "execution_count": 62,
     "metadata": {},
     "output_type": "execute_result"
    }
   ],
   "source": [
    "df.head(3)"
   ]
  },
  {
   "cell_type": "code",
   "execution_count": 89,
   "metadata": {},
   "outputs": [
    {
     "data": {
      "text/plain": [
       "pandas.core.frame.DataFrame"
      ]
     },
     "execution_count": 89,
     "metadata": {},
     "output_type": "execute_result"
    }
   ],
   "source": [
    "#tw_by_hour = df[['username','tweet_hour']].groupby(['tweet_hour']).count()\n",
    "tw_by_hour = df[['username','tweet_hour']].groupby(['tweet_hour']).agg(['count'])\n",
    "\n",
    "type(tw_by_hour)"
   ]
  },
  {
   "cell_type": "code",
   "execution_count": 91,
   "metadata": {},
   "outputs": [
    {
     "data": {
      "text/plain": [
       "pandas.core.series.Series"
      ]
     },
     "execution_count": 91,
     "metadata": {},
     "output_type": "execute_result"
    }
   ],
   "source": [
    "tbh_series = tw_by_hour['username']['count']\n",
    "type(tbh_series)"
   ]
  },
  {
   "cell_type": "code",
   "execution_count": 107,
   "metadata": {},
   "outputs": [
    {
     "data": {
      "text/plain": [
       "tweet_hour\n",
       "0      387\n",
       "1      293\n",
       "2      221\n",
       "3      164\n",
       "4      216\n",
       "5      259\n",
       "6      390\n",
       "7      348\n",
       "8      390\n",
       "9      568\n",
       "10     640\n",
       "11     634\n",
       "12     755\n",
       "13     917\n",
       "14    1060\n",
       "15    1088\n",
       "16    1009\n",
       "17    1110\n",
       "18    1385\n",
       "19    1397\n",
       "20    1366\n",
       "21    1198\n",
       "22     978\n",
       "23     637\n",
       "Name: count, dtype: int64"
      ]
     },
     "execution_count": 107,
     "metadata": {},
     "output_type": "execute_result"
    }
   ],
   "source": [
    "tbh_series"
   ]
  },
  {
   "cell_type": "code",
   "execution_count": null,
   "metadata": {},
   "outputs": [],
   "source": [
    "plt.scatter(songs_in_hour_pd[\"hour\"], songs_in_hour_pd[\"count\"])\n",
    "plt.xlim(-1, 24);\n",
    "plt.ylim(0, 1.2 * max(songs_in_hour_pd[\"count\"]))\n",
    "plt.xlabel(\"Hour\")\n",
    "plt.ylabel(\"Total Tweets\");"
   ]
  }
 ],
 "metadata": {
  "kernelspec": {
   "display_name": "Python 3",
   "language": "python",
   "name": "python3"
  },
  "language_info": {
   "codemirror_mode": {
    "name": "ipython",
    "version": 3
   },
   "file_extension": ".py",
   "mimetype": "text/x-python",
   "name": "python",
   "nbconvert_exporter": "python",
   "pygments_lexer": "ipython3",
   "version": "3.5.2"
  }
 },
 "nbformat": 4,
 "nbformat_minor": 2
}

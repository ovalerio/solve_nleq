{
 "cells": [
  {
   "cell_type": "markdown",
   "metadata": {},
   "source": [
    "## Data Wrangling using Spark and Data from San Francisco Police Department\n",
    "\n",
    "The data we will be working with was made publicly available as part of the Open Data Initiative from San Francisco City.\n",
    "It encompass data from police incident reports from 2018 till today. The reason this dataset was picked up in particular\n",
    "was because it also contains information about location which is one of the aspects we would like to explore using the\n",
    "visualisation techniques available in Python.  In particular the use of heatmaps.\n",
    "\n",
    "[San Francisco Police Reports](https://data.sfgov.org/Public-Safety/Police-Department-Incident-Reports-2018-to-Present/wg3w-h783)"
   ]
  },
  {
   "cell_type": "markdown",
   "metadata": {},
   "source": [
    "For convenience the data has been downloaded locally and stored in CSV format."
   ]
  },
  {
   "cell_type": "code",
   "execution_count": 1,
   "metadata": {},
   "outputs": [
    {
     "name": "stdout",
     "output_type": "stream",
     "text": [
      "D:\\datascience\\solve_nleq\\data\\Police_Department_Incident_Reports_2018_to_Present.csv\n"
     ]
    }
   ],
   "source": [
    "# Police_Department_Incident_Reports_2018_to_Present.csv\n",
    "# D:\\datascience\\solve_nleq\\data\n",
    "from os import path\n",
    "np = path.normpath('D:\\datascience\\solve_nleq\\data\\Police_Department_Incident_Reports_2018_to_Present.csv')\n",
    "print(np)"
   ]
  },
  {
   "cell_type": "markdown",
   "metadata": {},
   "source": [
    "At the end as I will show below it was not a very good idea to read data as CSV and I end\n",
    "up using JSON which apparently has better support for types rather than delaying the type\n",
    "inferrement to the CSV reader.\n",
    "\n",
    "The LINK to the JSON API is provided: \n",
    "https://data.sfgov.org/resource/wg3w-h783.json\n",
    "\n",
    "The API Documentation is available at the following location:\n",
    "https://dev.socrata.com/foundry/data.sfgov.org/wg3w-h783"
   ]
  },
  {
   "cell_type": "markdown",
   "metadata": {},
   "source": [
    "## Creating a Spark Session\n",
    "\n",
    "First we import Spark and other necessary modules, create the Spark Session and proceed to load the data."
   ]
  },
  {
   "cell_type": "code",
   "execution_count": 6,
   "metadata": {},
   "outputs": [],
   "source": [
    "# To initalize Spark locally we make use of findspark\n",
    "import findspark\n",
    "# In case the SPARK_HOME environment variable has not been defined we need to explicitly pass that as an argument\n",
    "#findspark.init('D:\\spark\\spark-2.4.4-bin-hadoop2.7')\n",
    "findspark.init()"
   ]
  },
  {
   "cell_type": "markdown",
   "metadata": {},
   "source": [
    "Proceed to create the session and name it or get it in case there is already an existing session available. "
   ]
  },
  {
   "cell_type": "code",
   "execution_count": 2,
   "metadata": {},
   "outputs": [],
   "source": [
    "import pyspark\n",
    "\n",
    "from pyspark import SparkConf\n",
    "from pyspark import SparkContext\n",
    "from pyspark.sql import SparkSession\n",
    "\n",
    "number_cores = 4\n",
    "memory_gb = 4\n",
    "conf = (\n",
    "    pyspark.SparkConf()\n",
    "        .setMaster('local[{}]'.format(number_cores))\n",
    "        .set('spark.driver.memory', '{}g'.format(memory_gb))\n",
    ")\n",
    "#sc = pyspark.SparkContext(conf=conf)\n",
    "\n",
    "#session = SparkSession.builder.appName(\"Mapping Crime in San Francisco\").getOrCreate()\n",
    "\n",
    "builder = SparkSession.builder\\\n",
    "    .master('local[{}]'.format(number_cores))\\\n",
    "    .appName('mapping-crime-in-san-francisco')\n",
    "\n",
    "builder.config('spark.driver.memory', '{}g'.format(memory_gb))\n",
    "    \n",
    "session = builder.getOrCreate()"
   ]
  },
  {
   "cell_type": "markdown",
   "metadata": {},
   "source": [
    "Displaying session parameters. If session creation step above did not succeed an error will be triggered at this point."
   ]
  },
  {
   "cell_type": "code",
   "execution_count": 3,
   "metadata": {},
   "outputs": [
    {
     "data": {
      "text/plain": [
       "[('spark.master', 'local[4]'),\n",
       " ('spark.app.id', 'local-1573134285418'),\n",
       " ('spark.driver.memory', '4g'),\n",
       " ('spark.rdd.compress', 'True'),\n",
       " ('spark.serializer.objectStreamReset', '100'),\n",
       " ('spark.executor.id', 'driver'),\n",
       " ('spark.submit.deployMode', 'client'),\n",
       " ('spark.app.name', 'mapping-crime-in-san-francisco'),\n",
       " ('spark.ui.showConsoleProgress', 'true'),\n",
       " ('spark.driver.host', '172.16.180.180'),\n",
       " ('spark.driver.port', '56288')]"
      ]
     },
     "execution_count": 3,
     "metadata": {},
     "output_type": "execute_result"
    }
   ],
   "source": [
    "#sc.getConf().getAll()\n",
    "session.sparkContext.getConf().getAll()"
   ]
  },
  {
   "cell_type": "markdown",
   "metadata": {},
   "source": [
    "Now we are ready to read the data.  First we were reading CSV, but the JSON prove to be more convenient. Notice that in the Open Data website is also possible to download the data in a \n",
    "format called GeoJSON which is a superset of JSON. Is important not to confuse them both. \n",
    "\n",
    "I taught otherwise and I end up stuck with a format that altought being parsed by the JSON reader is largely incompatible with the rest of Spark data manipulation model. \n",
    "\n",
    "If you are curious about the differences between JSON and Geo JSON I would reccommend you the following resuource. It's from there that I learned GeoJSON is a superset of JSON.\n",
    "[JSON vs GeoJSON](https://github.com/earthcubeprojects-chords/chords/wiki/JSON-vs-GeoJSON)"
   ]
  },
  {
   "cell_type": "code",
   "execution_count": 8,
   "metadata": {},
   "outputs": [],
   "source": [
    "data_path = \"data/Police_Department_Incident_Reports_2018_to_Present.csv\"\n",
    "crime_reports = session.read.csv(data_path)\n",
    "\n",
    "data_path_json = \"data/wg3w-h783.json\"\n",
    "crime_reports_json = session.read.json(data_path_json)"
   ]
  },
  {
   "cell_type": "markdown",
   "metadata": {},
   "source": [
    "## Familiarizing with the Data\n",
    "\n",
    "As a first step to get familiar with the data we print the schema to see which fields are there."
   ]
  },
  {
   "cell_type": "code",
   "execution_count": 66,
   "metadata": {},
   "outputs": [
    {
     "name": "stdout",
     "output_type": "stream",
     "text": [
      "root\n",
      " |-- _c0: string (nullable = true)\n",
      " |-- _c1: string (nullable = true)\n",
      " |-- _c2: string (nullable = true)\n",
      " |-- _c3: string (nullable = true)\n",
      " |-- _c4: string (nullable = true)\n",
      " |-- _c5: string (nullable = true)\n",
      " |-- _c6: string (nullable = true)\n",
      " |-- _c7: string (nullable = true)\n",
      " |-- _c8: string (nullable = true)\n",
      " |-- _c9: string (nullable = true)\n",
      " |-- _c10: string (nullable = true)\n",
      " |-- _c11: string (nullable = true)\n",
      " |-- _c12: string (nullable = true)\n",
      " |-- _c13: string (nullable = true)\n",
      " |-- _c14: string (nullable = true)\n",
      " |-- _c15: string (nullable = true)\n",
      " |-- _c16: string (nullable = true)\n",
      " |-- _c17: string (nullable = true)\n",
      " |-- _c18: string (nullable = true)\n",
      " |-- _c19: string (nullable = true)\n",
      " |-- _c20: string (nullable = true)\n",
      " |-- _c21: string (nullable = true)\n",
      " |-- _c22: string (nullable = true)\n",
      " |-- _c23: string (nullable = true)\n",
      " |-- _c24: string (nullable = true)\n",
      " |-- _c25: string (nullable = true)\n",
      " |-- _c26: string (nullable = true)\n",
      " |-- _c27: string (nullable = true)\n",
      " |-- _c28: string (nullable = true)\n",
      " |-- _c29: string (nullable = true)\n",
      " |-- _c30: string (nullable = true)\n",
      " |-- _c31: string (nullable = true)\n",
      " |-- _c32: string (nullable = true)\n",
      " |-- _c33: string (nullable = true)\n",
      " |-- _c34: string (nullable = true)\n",
      "\n"
     ]
    },
    {
     "data": {
      "text/plain": [
       "278807"
      ]
     },
     "execution_count": 66,
     "metadata": {},
     "output_type": "execute_result"
    }
   ],
   "source": [
    "crime_reports.printSchema()\n",
    "crime_reports.count()"
   ]
  },
  {
   "cell_type": "code",
   "execution_count": 10,
   "metadata": {},
   "outputs": [
    {
     "name": "stdout",
     "output_type": "stream",
     "text": [
      "root\n",
      " |-- _corrupt_record: string (nullable = true)\n",
      "\n"
     ]
    }
   ],
   "source": [
    "crime_reports_json.printSchema()"
   ]
  },
  {
   "cell_type": "markdown",
   "metadata": {},
   "source": [
    "Hmm.. So what happened?  Well I learned once again that although this format is mostly JSON, it is not strict JSON but JSONL.  A format created as a replacement to CSV.  If interested about the difference I included a reference below.\n",
    "\n",
    "https://stackoverflow.com/questions/38895057/reading-json-with-apache-spark-corrupt-record\n",
    "\n",
    "What we need instead is to provide the JSON reader with a file where every single line is a proper JSON object. \n",
    "\n",
    "Let's begin by loading a JSON file, where each line is a JSON object:"
   ]
  },
  {
   "cell_type": "code",
   "execution_count": 11,
   "metadata": {},
   "outputs": [],
   "source": [
    "crime_reports_jsonl = session.read.option(\"multiline\", \"true\").json(data_path_json)"
   ]
  },
  {
   "cell_type": "code",
   "execution_count": 12,
   "metadata": {},
   "outputs": [
    {
     "name": "stdout",
     "output_type": "stream",
     "text": [
      "root\n",
      " |-- :@computed_region_26cr_cadq: string (nullable = true)\n",
      " |-- :@computed_region_2dwj_jsy4: string (nullable = true)\n",
      " |-- :@computed_region_6qbp_sg9q: string (nullable = true)\n",
      " |-- :@computed_region_ajp5_b2md: string (nullable = true)\n",
      " |-- :@computed_region_h4ep_8xdi: string (nullable = true)\n",
      " |-- :@computed_region_jg9y_a9du: string (nullable = true)\n",
      " |-- :@computed_region_nqbw_i6c3: string (nullable = true)\n",
      " |-- :@computed_region_qgnn_b9vv: string (nullable = true)\n",
      " |-- :@computed_region_y6ts_4iup: string (nullable = true)\n",
      " |-- analysis_neighborhood: string (nullable = true)\n",
      " |-- cad_number: string (nullable = true)\n",
      " |-- cnn: string (nullable = true)\n",
      " |-- filed_online: boolean (nullable = true)\n",
      " |-- incident_category: string (nullable = true)\n",
      " |-- incident_code: string (nullable = true)\n",
      " |-- incident_date: string (nullable = true)\n",
      " |-- incident_datetime: string (nullable = true)\n",
      " |-- incident_day_of_week: string (nullable = true)\n",
      " |-- incident_description: string (nullable = true)\n",
      " |-- incident_id: string (nullable = true)\n",
      " |-- incident_number: string (nullable = true)\n",
      " |-- incident_subcategory: string (nullable = true)\n",
      " |-- incident_time: string (nullable = true)\n",
      " |-- incident_year: string (nullable = true)\n",
      " |-- intersection: string (nullable = true)\n",
      " |-- latitude: string (nullable = true)\n",
      " |-- longitude: string (nullable = true)\n",
      " |-- point: struct (nullable = true)\n",
      " |    |-- coordinates: array (nullable = true)\n",
      " |    |    |-- element: double (containsNull = true)\n",
      " |    |-- type: string (nullable = true)\n",
      " |-- police_district: string (nullable = true)\n",
      " |-- report_datetime: string (nullable = true)\n",
      " |-- report_type_code: string (nullable = true)\n",
      " |-- report_type_description: string (nullable = true)\n",
      " |-- resolution: string (nullable = true)\n",
      " |-- row_id: string (nullable = true)\n",
      " |-- supervisor_district: string (nullable = true)\n",
      "\n"
     ]
    }
   ],
   "source": [
    "crime_reports_jsonl.printSchema()"
   ]
  },
  {
   "cell_type": "code",
   "execution_count": 13,
   "metadata": {},
   "outputs": [
    {
     "data": {
      "text/plain": [
       "DataFrame[summary: string, :@computed_region_26cr_cadq: string, :@computed_region_2dwj_jsy4: string, :@computed_region_6qbp_sg9q: string, :@computed_region_ajp5_b2md: string, :@computed_region_h4ep_8xdi: string, :@computed_region_jg9y_a9du: string, :@computed_region_nqbw_i6c3: string, :@computed_region_qgnn_b9vv: string, :@computed_region_y6ts_4iup: string, analysis_neighborhood: string, cad_number: string, cnn: string, incident_category: string, incident_code: string, incident_date: string, incident_datetime: string, incident_day_of_week: string, incident_description: string, incident_id: string, incident_number: string, incident_subcategory: string, incident_time: string, incident_year: string, intersection: string, latitude: string, longitude: string, police_district: string, report_datetime: string, report_type_code: string, report_type_description: string, resolution: string, row_id: string, supervisor_district: string]"
      ]
     },
     "execution_count": 13,
     "metadata": {},
     "output_type": "execute_result"
    }
   ],
   "source": [
    "crime_reports_jsonl.describe()"
   ]
  },
  {
   "cell_type": "code",
   "execution_count": 14,
   "metadata": {},
   "outputs": [
    {
     "name": "stdout",
     "output_type": "stream",
     "text": [
      "+---------------------------+---------------------------+---------------------------+---------------------------+---------------------------+---------------------------+---------------------------+---------------------------+---------------------------+---------------------+----------+----+------------+-----------------+-------------+--------------------+--------------------+--------------------+--------------------+-----------+---------------+--------------------+-------------+-------------+------------+--------+---------+-----+---------------+--------------------+----------------+-----------------------+--------------+-----------+-------------------+\n",
      "|:@computed_region_26cr_cadq|:@computed_region_2dwj_jsy4|:@computed_region_6qbp_sg9q|:@computed_region_ajp5_b2md|:@computed_region_h4ep_8xdi|:@computed_region_jg9y_a9du|:@computed_region_nqbw_i6c3|:@computed_region_qgnn_b9vv|:@computed_region_y6ts_4iup|analysis_neighborhood|cad_number| cnn|filed_online|incident_category|incident_code|       incident_date|   incident_datetime|incident_day_of_week|incident_description|incident_id|incident_number|incident_subcategory|incident_time|incident_year|intersection|latitude|longitude|point|police_district|     report_datetime|report_type_code|report_type_description|    resolution|     row_id|supervisor_district|\n",
      "+---------------------------+---------------------------+---------------------------+---------------------------+---------------------------+---------------------------+---------------------------+---------------------------+---------------------------+---------------------+----------+----+------------+-----------------+-------------+--------------------+--------------------+--------------------+--------------------+-----------+---------------+--------------------+-------------+-------------+------------+--------+---------+-----+---------------+--------------------+----------------+-----------------------+--------------+-----------+-------------------+\n",
      "|                       null|                       null|                       null|                       null|                       null|                       null|                       null|                       null|                       null|                 null|      null|null|        true|    Larceny Theft|        06374|2019-08-15T00:00:...|2019-08-15T11:41:...|            Thursday|Theft, Other Prop...|     854240|      196208089|Larceny Theft - O...|        11:41|         2019|        null|    null|     null| null|        Central|2019-10-01T14:06:...|              II|       Coplogic Initial|Open or Active|85424006374|               null|\n",
      "+---------------------------+---------------------------+---------------------------+---------------------------+---------------------------+---------------------------+---------------------------+---------------------------+---------------------------+---------------------+----------+----+------------+-----------------+-------------+--------------------+--------------------+--------------------+--------------------+-----------+---------------+--------------------+-------------+-------------+------------+--------+---------+-----+---------------+--------------------+----------------+-----------------------+--------------+-----------+-------------------+\n",
      "only showing top 1 row\n",
      "\n"
     ]
    }
   ],
   "source": [
    "crime_reports_jsonl.show(n=1)"
   ]
  },
  {
   "cell_type": "code",
   "execution_count": 15,
   "metadata": {},
   "outputs": [
    {
     "data": {
      "text/plain": [
       "[Row(:@computed_region_26cr_cadq=None, :@computed_region_2dwj_jsy4=None, :@computed_region_6qbp_sg9q=None, :@computed_region_ajp5_b2md=None, :@computed_region_h4ep_8xdi=None, :@computed_region_jg9y_a9du=None, :@computed_region_nqbw_i6c3=None, :@computed_region_qgnn_b9vv=None, :@computed_region_y6ts_4iup=None, analysis_neighborhood=None, cad_number=None, cnn=None, filed_online=True, incident_category='Larceny Theft', incident_code='06374', incident_date='2019-08-15T00:00:00.000', incident_datetime='2019-08-15T11:41:00.000', incident_day_of_week='Thursday', incident_description='Theft, Other Property, >$950', incident_id='854240', incident_number='196208089', incident_subcategory='Larceny Theft - Other', incident_time='11:41', incident_year='2019', intersection=None, latitude=None, longitude=None, point=None, police_district='Central', report_datetime='2019-10-01T14:06:00.000', report_type_code='II', report_type_description='Coplogic Initial', resolution='Open or Active', row_id='85424006374', supervisor_district=None),\n",
       " Row(:@computed_region_26cr_cadq=None, :@computed_region_2dwj_jsy4=None, :@computed_region_6qbp_sg9q=None, :@computed_region_ajp5_b2md=None, :@computed_region_h4ep_8xdi=None, :@computed_region_jg9y_a9du=None, :@computed_region_nqbw_i6c3=None, :@computed_region_qgnn_b9vv=None, :@computed_region_y6ts_4iup=None, analysis_neighborhood=None, cad_number=None, cnn=None, filed_online=True, incident_category='Larceny Theft', incident_code='06374', incident_date='2019-09-17T00:00:00.000', incident_datetime='2019-09-17T22:00:00.000', incident_day_of_week='Tuesday', incident_description='Theft, Other Property, >$950', incident_id='854266', incident_number='196208205', incident_subcategory='Larceny Theft - Other', incident_time='22:00', incident_year='2019', intersection=None, latitude=None, longitude=None, point=None, police_district='Out of SF', report_datetime='2019-10-02T22:01:00.000', report_type_code='II', report_type_description='Coplogic Initial', resolution='Open or Active', row_id='85426606374', supervisor_district=None),\n",
       " Row(:@computed_region_26cr_cadq='4', :@computed_region_2dwj_jsy4=None, :@computed_region_6qbp_sg9q='8', :@computed_region_ajp5_b2md='29', :@computed_region_h4ep_8xdi=None, :@computed_region_jg9y_a9du=None, :@computed_region_nqbw_i6c3=None, :@computed_region_qgnn_b9vv='8', :@computed_region_y6ts_4iup=None, analysis_neighborhood='Outer Richmond', cad_number='192772728', cnn='28009000', filed_online=None, incident_category='Robbery', incident_code='03474', incident_date='2019-10-04T00:00:00.000', incident_datetime='2019-10-04T14:25:00.000', incident_day_of_week='Friday', incident_description='Robbery, Att., W/ Force', incident_id='854426', incident_number='190746203', incident_subcategory='Robbery - Other', incident_time='14:25', incident_year='2019', intersection='BALBOA ST \\\\ GREAT HWY', latitude='37.77507596005672', longitude='-122.51129492624534', point=Row(coordinates=[-122.51129492624534, 37.77507596005672], type='Point'), police_district='Richmond', report_datetime='2019-10-04T16:13:00.000', report_type_code='II', report_type_description='Initial', resolution='Open or Active', row_id='85442603474', supervisor_district='1')]"
      ]
     },
     "execution_count": 15,
     "metadata": {},
     "output_type": "execute_result"
    }
   ],
   "source": [
    "crime_reports_jsonl.take(3) "
   ]
  },
  {
   "cell_type": "code",
   "execution_count": 17,
   "metadata": {},
   "outputs": [
    {
     "data": {
      "text/plain": [
       "1000"
      ]
     },
     "execution_count": 17,
     "metadata": {},
     "output_type": "execute_result"
    }
   ],
   "source": [
    "crime_reports_jsonl.count()"
   ]
  },
  {
   "cell_type": "code",
   "execution_count": 19,
   "metadata": {},
   "outputs": [
    {
     "name": "stdout",
     "output_type": "stream",
     "text": [
      "+-------+---------------------------+---------------------------+---------------------------+---------------------------+---------------------------+---------------------------+---------------------------+---------------------------+---------------------------+---------------------+-------------------+--------------------+-----------------+-----------------+--------------------+--------------------+--------------------+--------------------+------------------+----------------+--------------------+-------------+------------------+--------------------+-------------------+-------------------+---------------+--------------------+----------------+-----------------------+--------------+-------------------+-------------------+\n",
      "|summary|:@computed_region_26cr_cadq|:@computed_region_2dwj_jsy4|:@computed_region_6qbp_sg9q|:@computed_region_ajp5_b2md|:@computed_region_h4ep_8xdi|:@computed_region_jg9y_a9du|:@computed_region_nqbw_i6c3|:@computed_region_qgnn_b9vv|:@computed_region_y6ts_4iup|analysis_neighborhood|         cad_number|                 cnn|incident_category|    incident_code|       incident_date|   incident_datetime|incident_day_of_week|incident_description|       incident_id| incident_number|incident_subcategory|incident_time|     incident_year|        intersection|           latitude|          longitude|police_district|     report_datetime|report_type_code|report_type_description|    resolution|             row_id|supervisor_district|\n",
      "+-------+---------------------------+---------------------------+---------------------------+---------------------------+---------------------------+---------------------------+---------------------------+---------------------------+---------------------------+---------------------+-------------------+--------------------+-----------------+-----------------+--------------------+--------------------+--------------------+--------------------+------------------+----------------+--------------------+-------------+------------------+--------------------+-------------------+-------------------+---------------+--------------------+----------------+-----------------------+--------------+-------------------+-------------------+\n",
      "|  count|                        913|                         30|                        895|                        913|                         75|                         23|                        160|                        913|                          5|                  913|                740|                 913|             1000|             1000|                1000|                1000|                1000|                1000|              1000|            1000|                1000|         1000|              1000|                 913|                913|                913|           1000|                1000|            1000|                   1000|          1000|               1000|                913|\n",
      "|   mean|          6.385542168674699|                       33.9|          55.15195530726257|         20.221248630887185|                        1.0|                        1.0|                      2.525|          5.375684556407448|                       25.0|                 null|1.927757435472973E8|2.5480018619934283E7|             null|        23229.039|                null|                null|                null|                null|        852396.659| 1.91876546902E8|                null|         null|          2018.985|                null| 37.769200220909546|-122.42744598503798|           null|                null|            null|                   null|          null| 8.5239689129039E10|  5.675794085432639|\n",
      "| stddev|          3.288118088888603|         12.152337649391889|          33.49275079464486|          12.18242675680119|                        0.0|                        0.0|         1.4876852984316986|         2.8573812152315554|          3.391164991562634|                 null|  78443.93058122056|  3159843.1955535808|             null|26093.57495145552|                null|                null|                null|                null|22110.346929618012|2596445.55531822|                null|         null|0.1216132796605237|                null|0.02623895070616611|0.02863656080414617|           null|                null|            null|                   null|          null|2.211034170869507E9|  2.887137812267779|\n",
      "|    min|                          1|                         15|                         10|                          1|                          1|                          1|                          1|                          1|                         23| Bayview Hunters P...|          190702073|            20075000|            Arson|            03011|2018-01-01T00:00:...|2018-01-01T13:28:...|              Friday|Access Card, incl...|            618986|       171027020|  Aggravated Assault|        00:00|              2018|01ST ST \\ BUSH ST...|   37.7088710099171| -122.3712458991155|        Bayview|2018-01-01T13:29:...|              II|       Coplogic Initial|Open or Active|        61898607041|                  1|\n",
      "|    max|                          9|                         70|                         99|                          9|                          1|                          1|                          5|                          9|                         31|     Western Addition|          192902472|            35066000|  Weapons Offense|            75000|2019-10-17T00:00:...|2019-10-17T14:44:...|           Wednesday|Weapon, Deadly, I...|            859447|       196216816|     Weapons Offense|        23:45|              2019|  ZOE ST \\ BRYANT ST|  37.82999075468863|-122.51129492624534|     Tenderloin|2019-10-17T14:56:...|              VS|     Vehicle Supplement|     Unfounded|        85944726030|                  9|\n",
      "+-------+---------------------------+---------------------------+---------------------------+---------------------------+---------------------------+---------------------------+---------------------------+---------------------------+---------------------------+---------------------+-------------------+--------------------+-----------------+-----------------+--------------------+--------------------+--------------------+--------------------+------------------+----------------+--------------------+-------------+------------------+--------------------+-------------------+-------------------+---------------+--------------------+----------------+-----------------------+--------------+-------------------+-------------------+\n",
      "\n"
     ]
    }
   ],
   "source": [
    "crime_reports_jsonl.describe().show()"
   ]
  },
  {
   "cell_type": "code",
   "execution_count": 23,
   "metadata": {},
   "outputs": [
    {
     "name": "stdout",
     "output_type": "stream",
     "text": [
      "+-------+--------------+-----------------+\n",
      "|summary|    resolution|incident_category|\n",
      "+-------+--------------+-----------------+\n",
      "|  count|          1000|             1000|\n",
      "|   mean|          null|             null|\n",
      "| stddev|          null|             null|\n",
      "|    min|Open or Active|            Arson|\n",
      "|    max|     Unfounded|  Weapons Offense|\n",
      "+-------+--------------+-----------------+\n",
      "\n"
     ]
    }
   ],
   "source": [
    "crime_reports_jsonl.describe(\"resolution\", \"incident_category\").show()"
   ]
  },
  {
   "cell_type": "code",
   "execution_count": 24,
   "metadata": {},
   "outputs": [
    {
     "name": "stdout",
     "output_type": "stream",
     "text": [
      "+-------+------------------+-------------+\n",
      "|summary|     incident_year|incident_time|\n",
      "+-------+------------------+-------------+\n",
      "|  count|              1000|         1000|\n",
      "|   mean|          2018.985|         null|\n",
      "| stddev|0.1216132796605237|         null|\n",
      "|    min|              2018|        00:00|\n",
      "|    max|              2019|        23:45|\n",
      "+-------+------------------+-------------+\n",
      "\n"
     ]
    }
   ],
   "source": [
    "crime_reports_jsonl.describe(\"incident_year\", \"incident_time\").show()"
   ]
  },
  {
   "cell_type": "markdown",
   "metadata": {},
   "source": [
    "## Selecting a Subset of the Data for Processing\n",
    "\n",
    "In this dataset there are some fields are more interesting for me to analyze than others. Also in order to enhace and reduce the amount of data being processed it is advised to create a dataframe from just the data we would like to process."
   ]
  },
  {
   "cell_type": "code",
   "execution_count": 67,
   "metadata": {},
   "outputs": [],
   "source": [
    "incidents = crime_reports_jsonl.select([\"resolution\",\"incident_category\", \"incident_time\"])"
   ]
  },
  {
   "cell_type": "code",
   "execution_count": 42,
   "metadata": {},
   "outputs": [
    {
     "data": {
      "text/plain": [
       "[Row(resolution='Open or Active', incident_category='Larceny Theft', incident_time='11:41'),\n",
       " Row(resolution='Open or Active', incident_category='Larceny Theft', incident_time='22:00'),\n",
       " Row(resolution='Open or Active', incident_category='Robbery', incident_time='14:25'),\n",
       " Row(resolution='Open or Active', incident_category='Larceny Theft', incident_time='19:30'),\n",
       " Row(resolution='Open or Active', incident_category='Non-Criminal', incident_time='16:53')]"
      ]
     },
     "execution_count": 42,
     "metadata": {},
     "output_type": "execute_result"
    }
   ],
   "source": [
    "# Displaying rows in JSON list format\n",
    "incidents.take(5)"
   ]
  },
  {
   "cell_type": "code",
   "execution_count": 43,
   "metadata": {},
   "outputs": [
    {
     "name": "stdout",
     "output_type": "stream",
     "text": [
      "+--------------+-----------------+-------------+\n",
      "|    resolution|incident_category|incident_time|\n",
      "+--------------+-----------------+-------------+\n",
      "|Open or Active|    Larceny Theft|        11:41|\n",
      "|Open or Active|    Larceny Theft|        22:00|\n",
      "|Open or Active|          Robbery|        14:25|\n",
      "|Open or Active|    Larceny Theft|        19:30|\n",
      "|Open or Active|     Non-Criminal|        16:53|\n",
      "+--------------+-----------------+-------------+\n",
      "only showing top 5 rows\n",
      "\n"
     ]
    }
   ],
   "source": [
    "# Displaying incidents in tabular format\n",
    "incidents.show(n=5)"
   ]
  },
  {
   "cell_type": "code",
   "execution_count": 68,
   "metadata": {},
   "outputs": [
    {
     "data": {
      "text/plain": [
       "Row(resolution='Open or Active', incident_category='Larceny Theft', incident_time='11:41')"
      ]
     },
     "execution_count": 68,
     "metadata": {},
     "output_type": "execute_result"
    }
   ],
   "source": [
    "incidents.head()"
   ]
  },
  {
   "cell_type": "markdown",
   "metadata": {},
   "source": [
    "## Calculating Crime Statistics by Hour of the Day\n",
    "\n",
    "A first simple visualization task would be to generate crime statistics depending on the time of the day.  Sort of finding out what time of the day is associated with more criminal activity.   I choosed this task because I tought it could be something useful to know as well as give me more opportunity to familiarize with the processing of data in Spark. In particular the use of lambda functions to produce data mappings and filtering results."
   ]
  },
  {
   "cell_type": "markdown",
   "metadata": {},
   "source": [
    "First start by defining a function to extract the hour of the day from the incident_time field"
   ]
  },
  {
   "cell_type": "code",
   "execution_count": 69,
   "metadata": {},
   "outputs": [],
   "source": [
    "import datetime\n",
    "from pyspark.sql.functions import udf\n",
    "\n",
    "get_hour = udf(lambda x: datetime.datetime.fromtimestamp(x / 1000.0). hour)\n",
    "conv_time = udf(lambda x: datetime.datetime.strptime(x, '%H:%M'). hour)"
   ]
  },
  {
   "cell_type": "code",
   "execution_count": 64,
   "metadata": {},
   "outputs": [
    {
     "data": {
      "text/plain": [
       "Row(resolution='Open or Active', incident_category='Larceny Theft', incident_time='11:41')"
      ]
     },
     "execution_count": 64,
     "metadata": {},
     "output_type": "execute_result"
    }
   ],
   "source": [
    "incidents.head()"
   ]
  },
  {
   "cell_type": "code",
   "execution_count": 70,
   "metadata": {},
   "outputs": [
    {
     "data": {
      "text/plain": [
       "Row(resolution='Open or Active', incident_category='Larceny Theft', incident_time='11:41', hour='11')"
      ]
     },
     "execution_count": 70,
     "metadata": {},
     "output_type": "execute_result"
    }
   ],
   "source": [
    "incidents = incidents.withColumn(\"hour\", conv_time(incidents.incident_time))\n",
    "incidents.head()"
   ]
  },
  {
   "cell_type": "code",
   "execution_count": 71,
   "metadata": {},
   "outputs": [
    {
     "name": "stdout",
     "output_type": "stream",
     "text": [
      "+----+-----+\n",
      "|hour|count|\n",
      "+----+-----+\n",
      "|   0|   54|\n",
      "|   1|   38|\n",
      "|   2|   23|\n",
      "|   3|    7|\n",
      "|   4|   10|\n",
      "|   5|   20|\n",
      "|   6|   15|\n",
      "|   7|   17|\n",
      "|   8|   29|\n",
      "|   9|   38|\n",
      "|  10|   41|\n",
      "|  11|   53|\n",
      "|  12|   56|\n",
      "|  13|   46|\n",
      "|  14|   60|\n",
      "|  15|   61|\n",
      "|  16|   42|\n",
      "|  17|   58|\n",
      "|  18|   90|\n",
      "|  19|   66|\n",
      "+----+-----+\n",
      "only showing top 20 rows\n",
      "\n"
     ]
    }
   ],
   "source": [
    "incidents_in_hour = incidents.groupby(incidents.hour).count().orderBy(incidents.hour.cast(\"float\"))\n",
    "incidents_in_hour.show()"
   ]
  },
  {
   "cell_type": "code",
   "execution_count": null,
   "metadata": {},
   "outputs": [],
   "source": []
  }
 ],
 "metadata": {
  "kernelspec": {
   "display_name": "Python 3",
   "language": "python",
   "name": "python3"
  },
  "language_info": {
   "codemirror_mode": {
    "name": "ipython",
    "version": 3
   },
   "file_extension": ".py",
   "mimetype": "text/x-python",
   "name": "python",
   "nbconvert_exporter": "python",
   "pygments_lexer": "ipython3",
   "version": "3.7.3"
  }
 },
 "nbformat": 4,
 "nbformat_minor": 2
}

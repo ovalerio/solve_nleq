{
 "cells": [
  {
   "cell_type": "markdown",
   "metadata": {},
   "source": [
    "## The (Obigatory) Word Cloud\n",
    "So, what are they talking about? In English, at least...."
   ]
  },
  {
   "cell_type": "code",
   "execution_count": null,
   "metadata": {},
   "outputs": [],
   "source": [
    "import re\n",
    "import pandas as pd\n",
    "import matplotlib.pyplot as plt\n",
    "from sklearn.feature_extraction.text import TfidfVectorizer\n",
    "from wordcloud import WordCloud\n",
    "\n",
    "df = pd.read_csv('../input/tweets.csv')\n",
    "\n",
    "junk = re.compile(\"al|RT|\\n|&.*?;|http[s](?://(?:[a-zA-Z]|[0-9]|[$-_@.&+]|[!*\\(\\),]|(?:%[0-9a-fA-F][0-9a-fA-F]))+)*\")\n",
    "tweets = [junk.sub(\" \", t) for t in df.tweets]\n",
    "\n",
    "vec = TfidfVectorizer(stop_words='english', ngram_range=(1,2), max_df=.5)\n",
    "tfv = vec.fit_transform(tweets)\n",
    "\n",
    "terms = vec.get_feature_names()\n",
    "wc = WordCloud(height=1000, width=1000, max_words=1000).generate(\" \".join(terms))\n",
    "\n",
    "plt.figure(figsize=(10, 10))\n",
    "plt.imshow(wc)\n",
    "plt.axis(\"off\")\n",
    "plt.show()"
   ]
  },
  {
   "cell_type": "markdown",
   "metadata": {},
   "source": [
    "## A Quick and Dirty Topic Model\n",
    "Sounds unpleasant. Let's try a topic model to get some more granularity."
   ]
  },
  {
   "cell_type": "code",
   "execution_count": null,
   "metadata": {},
   "outputs": [],
   "source": [
    "from sklearn.decomposition import NMF\n",
    "nmf = NMF(n_components=10).fit(tfv)\n",
    "for idx, topic in enumerate(nmf.components_):\n",
    "    print(\"Topic #%d:\" % idx)\n",
    "    print(\" \".join([terms[i] for i in topic.argsort()[:-10 - 1:-1]]))\n",
    "    print(\"\")"
   ]
  },
  {
   "cell_type": "markdown",
   "metadata": {},
   "source": [
    "## Top 10 Users and their Topic Distributions\n",
    "\n",
    "If we have topics, we might as well see what the top ten users are into. Evidently Uncle_SamCoCo likes to talk about Al Qaida (?)...."
   ]
  },
  {
   "cell_type": "code",
   "execution_count": null,
   "metadata": {},
   "outputs": [],
   "source": [
    "import numpy as np\n",
    "from matplotlib import style\n",
    "\n",
    "style.use('bmh')\n",
    "\n",
    "df['topic'] = np.argmax(nmf.transform(vec.transform(tweets)), axis=1)\n",
    "top10_users = df[df.username.isin(df.username.value_counts()[:10].keys().tolist())]\n",
    "pd.crosstab(top10_users.username, top10_users.topic).plot.bar(stacked=True, figsize=(16, 10), colormap=\"coolwarm\")\n"
   ]
  },
  {
   "cell_type": "code",
   "execution_count": null,
   "metadata": {},
   "outputs": [],
   "source": []
  }
 ],
 "metadata": {
  "kernelspec": {
   "display_name": "Python 3",
   "language": "python",
   "name": "python3"
  },
  "language_info": {
   "codemirror_mode": {
    "name": "ipython",
    "version": 3
   },
   "file_extension": ".py",
   "mimetype": "text/x-python",
   "name": "python",
   "nbconvert_exporter": "python",
   "pygments_lexer": "ipython3",
   "version": "3.5.2"
  }
 },
 "nbformat": 4,
 "nbformat_minor": 1
}

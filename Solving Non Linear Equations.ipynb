{
 "cells": [
  {
   "cell_type": "code",
   "execution_count": 1,
   "metadata": {},
   "outputs": [],
   "source": [
    "import scipy.optimize as opt\n",
    "from numpy import exp\n",
    "import timeit"
   ]
  },
  {
   "cell_type": "code",
   "execution_count": 2,
   "metadata": {},
   "outputs": [],
   "source": [
    "def f(variables) :\n",
    "    (x,y) = variables\n",
    "    \n",
    "    first_eq = x + y**2 - 4\n",
    "    second_eq = exp(x) + x*y - 3\n",
    "    \n",
    "    return [first_eq, second_eq]"
   ]
  },
  {
   "cell_type": "code",
   "execution_count": 4,
   "metadata": {},
   "outputs": [
    {
     "name": "stdout",
     "output_type": "stream",
     "text": [
      "[0.62034452 1.83838393]\n",
      "run time : 0.0003843000000074426\n"
     ]
    }
   ],
   "source": [
    "st1 = timeit.default_timer()\n",
    "solution = opt.fsolve(f, (0.1, 1))\n",
    "st2 = timeit.default_timer()\n",
    "print (solution)\n",
    "print (\"run time : {0}\".format(st2-st1))"
   ]
  },
  {
   "cell_type": "code",
   "execution_count": 7,
   "metadata": {},
   "outputs": [
    {
     "name": "stdout",
     "output_type": "stream",
     "text": [
      "diff(F0,q1) -ceq1*keq1*nu1*((L - q1*(nu1 + sigma1) - q2*(nu2 + sigma2))/csalt)**nu1*(-nu1 - sigma1)/(L - q1*(nu1 + sigma1) - q2*(nu2 + sigma2)) + 1\n",
      "diff(F0,q2) -ceq1*keq1*nu1*((L - q1*(nu1 + sigma1) - q2*(nu2 + sigma2))/csalt)**nu1*(-nu2 - sigma2)/(L - q1*(nu1 + sigma1) - q2*(nu2 + sigma2))\n",
      "diff(F1,q1) -ceq2*keq2*nu2*((L - q1*(nu1 + sigma1) - q2*(nu2 + sigma2))/csalt)**nu2*(-nu1 - sigma1)/(L - q1*(nu1 + sigma1) - q2*(nu2 + sigma2))\n",
      "diff(F1,q2) -ceq2*keq2*nu2*((L - q1*(nu1 + sigma1) - q2*(nu2 + sigma2))/csalt)**nu2*(-nu2 - sigma2)/(L - q1*(nu1 + sigma1) - q2*(nu2 + sigma2)) + 1\n"
     ]
    }
   ],
   "source": [
    "from sympy import *\n",
    "keq1, keq2 = symbols('keq1 keq2')\n",
    "L = symbols('L')\n",
    "nu1, nu2 = symbols('nu1 nu2')\n",
    "sigma1, sigma2 = symbols('sigma1 sigma2')\n",
    "csalt = symbols('csalt')\n",
    "q1, q2 = symbols('q1 q2')\n",
    "ceq1, ceq2 = symbols('ceq1 ceq2')\n",
    "\n",
    "F0 = q1 - keq1 * ceq1 * ((L - (nu1 + sigma1)*q1 - (nu2 + sigma2)*q2)/csalt)**nu1\n",
    "F1 = q2 - keq2 * ceq2 * ((L - (nu2 + sigma2)*q2 - (nu1 + sigma1)*q1)/csalt)**nu2\n"
   ]
  },
  {
   "cell_type": "code",
   "execution_count": 8,
   "metadata": {},
   "outputs": [
    {
     "name": "stdout",
     "output_type": "stream",
     "text": [
      "diff(F0,q1) -ceq1*keq1*nu1*((L - q1*(nu1 + sigma1) - q2*(nu2 + sigma2))/csalt)**nu1*(-nu1 - sigma1)/(L - q1*(nu1 + sigma1) - q2*(nu2 + sigma2)) + 1\n"
     ]
    },
    {
     "data": {
      "text/latex": [
       "$\\displaystyle - \\frac{ceq_{1} keq_{1} \\nu_{1} \\left(\\frac{L - q_{1} \\left(\\nu_{1} + \\sigma_{1}\\right) - q_{2} \\left(\\nu_{2} + \\sigma_{2}\\right)}{csalt}\\right)^{\\nu_{1}} \\left(- \\nu_{1} - \\sigma_{1}\\right)}{L - q_{1} \\left(\\nu_{1} + \\sigma_{1}\\right) - q_{2} \\left(\\nu_{2} + \\sigma_{2}\\right)} + 1$"
      ],
      "text/plain": [
       "-ceq1*keq1*nu1*((L - q1*(nu1 + sigma1) - q2*(nu2 + sigma2))/csalt)**nu1*(-nu1 - sigma1)/(L - q1*(nu1 + sigma1) - q2*(nu2 + sigma2)) + 1"
      ]
     },
     "execution_count": 8,
     "metadata": {},
     "output_type": "execute_result"
    }
   ],
   "source": [
    "print('diff(F0,q1)', diff(F0,q1))\n",
    "diff(F0,q1)"
   ]
  },
  {
   "cell_type": "code",
   "execution_count": 9,
   "metadata": {},
   "outputs": [
    {
     "name": "stdout",
     "output_type": "stream",
     "text": [
      "diff(F0,q2) -ceq1*keq1*nu1*((L - q1*(nu1 + sigma1) - q2*(nu2 + sigma2))/csalt)**nu1*(-nu2 - sigma2)/(L - q1*(nu1 + sigma1) - q2*(nu2 + sigma2))\n"
     ]
    },
    {
     "data": {
      "text/latex": [
       "$\\displaystyle - \\frac{ceq_{1} keq_{1} \\nu_{1} \\left(\\frac{L - q_{1} \\left(\\nu_{1} + \\sigma_{1}\\right) - q_{2} \\left(\\nu_{2} + \\sigma_{2}\\right)}{csalt}\\right)^{\\nu_{1}} \\left(- \\nu_{2} - \\sigma_{2}\\right)}{L - q_{1} \\left(\\nu_{1} + \\sigma_{1}\\right) - q_{2} \\left(\\nu_{2} + \\sigma_{2}\\right)}$"
      ],
      "text/plain": [
       "-ceq1*keq1*nu1*((L - q1*(nu1 + sigma1) - q2*(nu2 + sigma2))/csalt)**nu1*(-nu2 - sigma2)/(L - q1*(nu1 + sigma1) - q2*(nu2 + sigma2))"
      ]
     },
     "execution_count": 9,
     "metadata": {},
     "output_type": "execute_result"
    }
   ],
   "source": [
    "print('diff(F0,q2)', diff(F0,q2))\n",
    "diff(F0,q2)"
   ]
  },
  {
   "cell_type": "code",
   "execution_count": 10,
   "metadata": {},
   "outputs": [
    {
     "name": "stdout",
     "output_type": "stream",
     "text": [
      "diff(F1,q1) -ceq2*keq2*nu2*((L - q1*(nu1 + sigma1) - q2*(nu2 + sigma2))/csalt)**nu2*(-nu1 - sigma1)/(L - q1*(nu1 + sigma1) - q2*(nu2 + sigma2))\n"
     ]
    },
    {
     "data": {
      "text/latex": [
       "$\\displaystyle - \\frac{ceq_{2} keq_{2} \\nu_{2} \\left(\\frac{L - q_{1} \\left(\\nu_{1} + \\sigma_{1}\\right) - q_{2} \\left(\\nu_{2} + \\sigma_{2}\\right)}{csalt}\\right)^{\\nu_{2}} \\left(- \\nu_{1} - \\sigma_{1}\\right)}{L - q_{1} \\left(\\nu_{1} + \\sigma_{1}\\right) - q_{2} \\left(\\nu_{2} + \\sigma_{2}\\right)}$"
      ],
      "text/plain": [
       "-ceq2*keq2*nu2*((L - q1*(nu1 + sigma1) - q2*(nu2 + sigma2))/csalt)**nu2*(-nu1 - sigma1)/(L - q1*(nu1 + sigma1) - q2*(nu2 + sigma2))"
      ]
     },
     "execution_count": 10,
     "metadata": {},
     "output_type": "execute_result"
    }
   ],
   "source": [
    "print('diff(F1,q1)', diff(F1,q1))\n",
    "diff(F1,q1)"
   ]
  },
  {
   "cell_type": "code",
   "execution_count": 11,
   "metadata": {},
   "outputs": [
    {
     "name": "stdout",
     "output_type": "stream",
     "text": [
      "diff(F1,q2) -ceq2*keq2*nu2*((L - q1*(nu1 + sigma1) - q2*(nu2 + sigma2))/csalt)**nu2*(-nu2 - sigma2)/(L - q1*(nu1 + sigma1) - q2*(nu2 + sigma2)) + 1\n"
     ]
    },
    {
     "data": {
      "text/latex": [
       "$\\displaystyle - \\frac{ceq_{2} keq_{2} \\nu_{2} \\left(\\frac{L - q_{1} \\left(\\nu_{1} + \\sigma_{1}\\right) - q_{2} \\left(\\nu_{2} + \\sigma_{2}\\right)}{csalt}\\right)^{\\nu_{2}} \\left(- \\nu_{2} - \\sigma_{2}\\right)}{L - q_{1} \\left(\\nu_{1} + \\sigma_{1}\\right) - q_{2} \\left(\\nu_{2} + \\sigma_{2}\\right)} + 1$"
      ],
      "text/plain": [
       "-ceq2*keq2*nu2*((L - q1*(nu1 + sigma1) - q2*(nu2 + sigma2))/csalt)**nu2*(-nu2 - sigma2)/(L - q1*(nu1 + sigma1) - q2*(nu2 + sigma2)) + 1"
      ]
     },
     "execution_count": 11,
     "metadata": {},
     "output_type": "execute_result"
    }
   ],
   "source": [
    "print('diff(F1,q2)', diff(F1,q2))\n",
    "diff(F1,q2)"
   ]
  }
 ],
 "metadata": {
  "kernelspec": {
   "display_name": "Python 3",
   "language": "python",
   "name": "python3"
  },
  "language_info": {
   "codemirror_mode": {
    "name": "ipython",
    "version": 3
   },
   "file_extension": ".py",
   "mimetype": "text/x-python",
   "name": "python",
   "nbconvert_exporter": "python",
   "pygments_lexer": "ipython3",
   "version": "3.7.3"
  }
 },
 "nbformat": 4,
 "nbformat_minor": 2
}

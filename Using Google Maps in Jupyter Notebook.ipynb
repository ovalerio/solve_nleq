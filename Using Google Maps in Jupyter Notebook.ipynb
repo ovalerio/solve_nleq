{
 "cells": [
  {
   "cell_type": "markdown",
   "metadata": {},
   "source": [
    "Disabling autoscroll of all pages in this notebook using some JavaScript magic <br>\n",
    "REF: https://stackoverflow.com/questions/36757301/disable-ipython-notebook-autoscrolling  <br>\n",
    "REF: https://github.com/ipython/ipython/issues/2172  <br>\n",
    "NOTICE:  The cell has to be written without comments."
   ]
  },
  {
   "cell_type": "code",
   "execution_count": 3,
   "metadata": {
    "scrolled": true
   },
   "outputs": [
    {
     "data": {
      "application/javascript": [
       "IPython.OutputArea.auto_scroll_threshold = 9999;\n"
      ],
      "text/plain": [
       "<IPython.core.display.Javascript object>"
      ]
     },
     "metadata": {},
     "output_type": "display_data"
    }
   ],
   "source": [
    "%%javascript \n",
    "IPython.OutputArea.auto_scroll_threshold = 9999;"
   ]
  },
  {
   "cell_type": "code",
   "execution_count": 4,
   "metadata": {
    "scrolled": true
   },
   "outputs": [],
   "source": [
    "# GMAPS API \n",
    "# https://jupyter-gmaps.readthedocs.io/en/latest/api.html\n",
    "import gmaps\n",
    "import gmaps.datasets\n",
    "gmaps.configure(api_key=\"\")"
   ]
  },
  {
   "cell_type": "code",
   "execution_count": 5,
   "metadata": {
    "scrolled": true
   },
   "outputs": [],
   "source": [
    "df = gmaps.datasets.load_dataset_as_df('starbucks_kfc_uk')\n",
    "\n",
    "starbucks_df = df[df['chain_name'] == 'starbucks']\n",
    "starbucks_df = starbucks_df[['latitude', 'longitude']]\n",
    "\n",
    "starbucks_layer = gmaps.symbol_layer(\n",
    "    starbucks_df, fill_color=\"green\", stroke_color=\"green\", scale=2\n",
    ")"
   ]
  },
  {
   "cell_type": "code",
   "execution_count": 6,
   "metadata": {
    "scrolled": false
   },
   "outputs": [
    {
     "data": {
      "application/vnd.jupyter.widget-view+json": {
       "model_id": "09e54a89f7e04f578129b730e94ee8da",
       "version_major": 2,
       "version_minor": 0
      },
      "text/plain": [
       "Figure(layout=FigureLayout(align_items='stretch', border='1px solid black', display='flex', flex_flow='column'…"
      ]
     },
     "metadata": {},
     "output_type": "display_data"
    }
   ],
   "source": [
    "# To control how the widget is layout a dictionary object is passed to the\n",
    "# gmaps.figure method as an optional argument. (attempting to remove the scrollbar)\n",
    "\n",
    "fig = gmaps.figure(layout={\n",
    "        'height': '800px',\n",
    "        'display': 'flex',\n",
    "        'flex_flow': 'column',\n",
    "        'align_items': 'stretch',\n",
    "        'border': '1px solid black'\n",
    "})\n",
    "\n",
    "fig.add_layer(starbucks_layer)\n",
    "fig"
   ]
  },
  {
   "cell_type": "code",
   "execution_count": 7,
   "metadata": {},
   "outputs": [
    {
     "data": {
      "application/vnd.jupyter.widget-view+json": {
       "model_id": "5e3d83163cbe49ad8dec2d5d0e774435",
       "version_major": 2,
       "version_minor": 0
      },
      "text/plain": [
       "Figure(layout=FigureLayout(height='420px'))"
      ]
     },
     "metadata": {},
     "output_type": "display_data"
    }
   ],
   "source": [
    "# load a Numpy array of (latitude, longitude) pairs\n",
    "locations = gmaps.datasets.load_dataset(\"taxi_rides\")\n",
    "\n",
    "fig = gmaps.figure()\n",
    "fig.add_layer(gmaps.heatmap_layer(locations))\n",
    "fig"
   ]
  },
  {
   "cell_type": "code",
   "execution_count": null,
   "metadata": {
    "scrolled": true
   },
   "outputs": [],
   "source": [
    "# Example How To Control Jupyter Widget Layout\n",
    "# https://ipywidgets.readthedocs.io/en/latest/examples/Widget%20Styling.html#The-layout-attribute\n",
    "from ipywidgets import Layout, Button, Box\n",
    "\n",
    "# override the default width of the button to 'auto' to let the button grow\n",
    "items_layout = Layout( width='auto')\n",
    "\n",
    "box_layout = Layout(display='flex',\n",
    "                    flex_flow='column',\n",
    "                    align_items='stretch',\n",
    "                    border='solid',\n",
    "                    width='50%')\n",
    "\n",
    "words = ['one', 'two', 'three', 'four']\n",
    "items = [Button(description=word, layout=items_layout, button_style='danger') for word in words]\n",
    "box = Box(children=items, layout=box_layout)\n",
    "box"
   ]
  }
 ],
 "metadata": {
  "kernelspec": {
   "display_name": "Python 3",
   "language": "python",
   "name": "python3"
  },
  "language_info": {
   "codemirror_mode": {
    "name": "ipython",
    "version": 3
   },
   "file_extension": ".py",
   "mimetype": "text/x-python",
   "name": "python",
   "nbconvert_exporter": "python",
   "pygments_lexer": "ipython3",
   "version": "3.7.3"
  }
 },
 "nbformat": 4,
 "nbformat_minor": 2
}

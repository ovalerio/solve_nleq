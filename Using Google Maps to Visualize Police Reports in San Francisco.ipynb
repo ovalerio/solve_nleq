{
 "cells": [
  {
   "cell_type": "markdown",
   "metadata": {},
   "source": [
    "Disabling autoscroll of all pages in this notebook using some JavaScript magic <br>\n",
    "REF: https://stackoverflow.com/questions/36757301/disable-ipython-notebook-autoscrolling  <br>\n",
    "REF: https://github.com/ipython/ipython/issues/2172  <br>\n",
    "NOTICE:  The cell has to be written without comments."
   ]
  },
  {
   "cell_type": "code",
   "execution_count": 1,
   "metadata": {
    "scrolled": true
   },
   "outputs": [
    {
     "data": {
      "application/javascript": [
       "IPython.OutputArea.auto_scroll_threshold = 9999;\n"
      ],
      "text/plain": [
       "<IPython.core.display.Javascript object>"
      ]
     },
     "metadata": {},
     "output_type": "display_data"
    }
   ],
   "source": [
    "%%javascript \n",
    "IPython.OutputArea.auto_scroll_threshold = 9999;"
   ]
  },
  {
   "cell_type": "code",
   "execution_count": 2,
   "metadata": {
    "scrolled": true
   },
   "outputs": [],
   "source": [
    "# GMAPS API \n",
    "# https://jupyter-gmaps.readthedocs.io/en/latest/api.html\n",
    "import gmaps\n",
    "import gmaps.datasets\n",
    "gmaps.configure(api_key=\"<-- REPLACE GOOGLE MAPS API KEY HERE -->\")"
   ]
  },
  {
   "cell_type": "markdown",
   "metadata": {},
   "source": [
    "### Loading the Incident Locations (Latitude and Longitude)\n",
    "\n",
    "In our database of incidents the locations are also encoded conveniently as points."
   ]
  },
  {
   "cell_type": "markdown",
   "metadata": {},
   "source": [
    "### Removing any Existing Spark Session\n",
    "\n",
    "This is used to force any existing spark session to close, starting with a clean slate."
   ]
  },
  {
   "cell_type": "code",
   "execution_count": null,
   "metadata": {},
   "outputs": [],
   "source": [
    "try:\n",
    "    session.stop()\n",
    "except:\n",
    "    pass"
   ]
  },
  {
   "cell_type": "markdown",
   "metadata": {},
   "source": [
    "### Creating a Spark Session\n",
    "\n",
    "Create the Spark session and configure the amount of memory used by the spark driver and the number of cores used for parallel processing of spark tasks."
   ]
  },
  {
   "cell_type": "code",
   "execution_count": 3,
   "metadata": {},
   "outputs": [],
   "source": [
    "import pyspark\n",
    "\n",
    "from pyspark import SparkConf\n",
    "from pyspark import SparkContext\n",
    "from pyspark.sql import SparkSession\n",
    "\n",
    "memory_gb = 4\n",
    "number_cores = 4\n",
    "\n",
    "conf = (\n",
    "    pyspark.SparkConf()\n",
    "        .setMaster('local[{}]'.format(number_cores))\n",
    "        .set('spark.driver.memory', '{}g'.format(memory_gb))\n",
    ")\n",
    "\n",
    "builder = SparkSession.builder\\\n",
    "    .master('local[{}]'.format(number_cores))\\\n",
    "    .appName('mapping-crime-in-san-francisco')\n",
    "\n",
    "builder.config('spark.driver.memory', '{}g'.format(memory_gb))\n",
    "    \n",
    "session = builder.getOrCreate()"
   ]
  },
  {
   "cell_type": "markdown",
   "metadata": {},
   "source": [
    "Displaying session parameters. If session creation step above did not succeed an error will be triggered at this point."
   ]
  },
  {
   "cell_type": "code",
   "execution_count": 4,
   "metadata": {},
   "outputs": [
    {
     "data": {
      "text/plain": [
       "[('spark.app.id', 'local-1573217702660'),\n",
       " ('spark.master', 'local[4]'),\n",
       " ('spark.driver.memory', '4g'),\n",
       " ('spark.rdd.compress', 'True'),\n",
       " ('spark.serializer.objectStreamReset', '100'),\n",
       " ('spark.executor.id', 'driver'),\n",
       " ('spark.submit.deployMode', 'client'),\n",
       " ('spark.app.name', 'mapping-crime-in-san-francisco'),\n",
       " ('spark.ui.showConsoleProgress', 'true'),\n",
       " ('spark.driver.port', '54754'),\n",
       " ('spark.driver.host', '172.16.180.180')]"
      ]
     },
     "execution_count": 4,
     "metadata": {},
     "output_type": "execute_result"
    }
   ],
   "source": [
    "session.sparkContext.getConf().getAll()"
   ]
  },
  {
   "cell_type": "markdown",
   "metadata": {},
   "source": [
    "### Familiarizing with the Data\n",
    "\n",
    "As a first step to get familiar with the data we print the schema to see which fields are there."
   ]
  },
  {
   "cell_type": "code",
   "execution_count": 5,
   "metadata": {},
   "outputs": [
    {
     "name": "stdout",
     "output_type": "stream",
     "text": [
      "root\n",
      " |-- Latitude: string (nullable = true)\n",
      " |-- Longitude: string (nullable = true)\n",
      "\n"
     ]
    },
    {
     "data": {
      "text/plain": [
       "278806"
      ]
     },
     "execution_count": 5,
     "metadata": {},
     "output_type": "execute_result"
    }
   ],
   "source": [
    "data_path = \"data/Police_Department_Incident_Reports_2018_to_Present.csv\"\n",
    "crime_reports = session.read.csv(data_path, header=True)\n",
    "\n",
    "incidents = crime_reports.select([\"Latitude\",\"Longitude\"])\n",
    "\n",
    "incidents.printSchema()\n",
    "incidents.count()"
   ]
  },
  {
   "cell_type": "code",
   "execution_count": 6,
   "metadata": {},
   "outputs": [
    {
     "data": {
      "text/html": [
       "<div>\n",
       "<style scoped>\n",
       "    .dataframe tbody tr th:only-of-type {\n",
       "        vertical-align: middle;\n",
       "    }\n",
       "\n",
       "    .dataframe tbody tr th {\n",
       "        vertical-align: top;\n",
       "    }\n",
       "\n",
       "    .dataframe thead th {\n",
       "        text-align: right;\n",
       "    }\n",
       "</style>\n",
       "<table border=\"1\" class=\"dataframe\">\n",
       "  <thead>\n",
       "    <tr style=\"text-align: right;\">\n",
       "      <th></th>\n",
       "      <th>Latitude</th>\n",
       "      <th>Longitude</th>\n",
       "    </tr>\n",
       "  </thead>\n",
       "  <tbody>\n",
       "    <tr>\n",
       "      <th>2</th>\n",
       "      <td>37.77507596005672</td>\n",
       "      <td>-122.51129492624534</td>\n",
       "    </tr>\n",
       "    <tr>\n",
       "      <th>3</th>\n",
       "      <td>37.76877049785351</td>\n",
       "      <td>-122.42746205880601</td>\n",
       "    </tr>\n",
       "    <tr>\n",
       "      <th>4</th>\n",
       "      <td>37.781176766186576</td>\n",
       "      <td>-122.5030864538133</td>\n",
       "    </tr>\n",
       "    <tr>\n",
       "      <th>5</th>\n",
       "      <td>37.80696290988273</td>\n",
       "      <td>-122.410497554147</td>\n",
       "    </tr>\n",
       "    <tr>\n",
       "      <th>6</th>\n",
       "      <td>37.78240595374784</td>\n",
       "      <td>-122.47630655314094</td>\n",
       "    </tr>\n",
       "  </tbody>\n",
       "</table>\n",
       "</div>"
      ],
      "text/plain": [
       "             Latitude            Longitude\n",
       "2   37.77507596005672  -122.51129492624534\n",
       "3   37.76877049785351  -122.42746205880601\n",
       "4  37.781176766186576   -122.5030864538133\n",
       "5   37.80696290988273    -122.410497554147\n",
       "6   37.78240595374784  -122.47630655314094"
      ]
     },
     "execution_count": 6,
     "metadata": {},
     "output_type": "execute_result"
    }
   ],
   "source": [
    "incidents_pd = incidents.toPandas()\n",
    "incidents_pd = incidents_pd.mask(incidents_pd.eq('None')).dropna()\n",
    "incidents_pd[0:5]"
   ]
  },
  {
   "cell_type": "markdown",
   "metadata": {},
   "source": [
    "### Convert Data to Floats\n",
    "\n",
    "The data in pandas are initially read as string and will have to be converted to floats."
   ]
  },
  {
   "cell_type": "code",
   "execution_count": 7,
   "metadata": {},
   "outputs": [
    {
     "data": {
      "text/plain": [
       "Latitude     float64\n",
       "Longitude    float64\n",
       "dtype: object"
      ]
     },
     "execution_count": 7,
     "metadata": {},
     "output_type": "execute_result"
    }
   ],
   "source": [
    "incidents_pd['Latitude'] = incidents_pd['Latitude'].astype(float)\n",
    "incidents_pd['Longitude'] = incidents_pd['Longitude'].astype(float)\n",
    "\n",
    "incidents_pd.dtypes"
   ]
  },
  {
   "cell_type": "markdown",
   "metadata": {},
   "source": [
    "### Converting the Locations in Pandas to a List of Points"
   ]
  },
  {
   "cell_type": "code",
   "execution_count": 8,
   "metadata": {},
   "outputs": [
    {
     "data": {
      "text/plain": [
       "[[37.77507596005672, -122.51129492624534],\n",
       " [37.76877049785351, -122.42746205880601],\n",
       " [37.781176766186576, -122.5030864538133],\n",
       " [37.80696290988273, -122.410497554147],\n",
       " [37.78240595374784, -122.47630655314094]]"
      ]
     },
     "execution_count": 8,
     "metadata": {},
     "output_type": "execute_result"
    }
   ],
   "source": [
    "incidents_locations = incidents_pd.values.tolist()\n",
    "incidents_locations[0:5]"
   ]
  },
  {
   "cell_type": "code",
   "execution_count": 9,
   "metadata": {
    "scrolled": false
   },
   "outputs": [
    {
     "data": {
      "application/vnd.jupyter.widget-view+json": {
       "model_id": "6504ee8f75b343939e5bc4379f8e5544",
       "version_major": 2,
       "version_minor": 0
      },
      "text/plain": [
       "Figure(layout=FigureLayout(align_items='stretch', border='1px solid black', display='flex', flex_flow='column'…"
      ]
     },
     "metadata": {},
     "output_type": "display_data"
    }
   ],
   "source": [
    "# To control how the widget is layout a dictionary object is passed to the\n",
    "# gmaps.figure method as an optional argument. (attempting to remove the scrollbar)\n",
    "fig = gmaps.figure(layout={\n",
    "        'height': '600px',\n",
    "        'display': 'flex',\n",
    "        'flex_flow': 'column',\n",
    "        'align_items': 'stretch',\n",
    "        'border': '1px solid black'\n",
    "})\n",
    "\n",
    "# Adding a heatmap_layer with the locations of incidents\n",
    "fig.add_layer(gmaps.heatmap_layer(incidents_locations))\n",
    "fig"
   ]
  }
 ],
 "metadata": {
  "kernelspec": {
   "display_name": "Python 3",
   "language": "python",
   "name": "python3"
  },
  "language_info": {
   "codemirror_mode": {
    "name": "ipython",
    "version": 3
   },
   "file_extension": ".py",
   "mimetype": "text/x-python",
   "name": "python",
   "nbconvert_exporter": "python",
   "pygments_lexer": "ipython3",
   "version": "3.7.3"
  }
 },
 "nbformat": 4,
 "nbformat_minor": 2
}
